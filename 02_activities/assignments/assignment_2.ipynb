{
 "cells": [
  {
   "cell_type": "markdown",
   "metadata": {},
   "source": [
    "# Practice Interview\n",
    "\n",
    "## Objective\n",
    "\n",
    "_*The partner assignment aims to provide participants with the opportunity to practice coding in an interview context. You will analyze your partner's Assignment 1. Moreover, code reviews are common practice in a software development team. This assignment should give you a taste of the code review process.*_\n",
    "\n",
    "## Group Size\n",
    "\n",
    "Each group should have 2 people. You will be assigned a partner\n",
    "\n",
    "## Part 1:\n",
    "\n",
    "You and your partner must share each other's Assignment 1 submission."
   ]
  },
  {
   "cell_type": "markdown",
   "metadata": {},
   "source": [
    "\n",
    "## Part 2:\n",
    "\n",
    "Create a Jupyter Notebook, create 6 of the following headings, and complete the following for your partner's assignment 1:\n",
    "\n",
    "-   Paraphrase the problem in your own words.\n"
   ]
  },
  {
   "cell_type": "code",
   "execution_count": null,
   "metadata": {},
   "outputs": [],
   "source": [
    "# Determine if there are any duplicate values in the given Binary Tree. \n",
    "# If duplicates exist, return the closest one to the root; if multiple duplicates are equidistant, return any of them. If no duplicates exist, return -1."
   ]
  },
  {
   "cell_type": "markdown",
   "metadata": {},
   "source": [
    "\n",
    "-   Create 1 new example that demonstrates you understand the problem. Trace/walkthrough 1 example that your partner made and explain it.\n"
   ]
  },
  {
   "cell_type": "code",
   "execution_count": null,
   "metadata": {},
   "outputs": [],
   "source": [
    "# New example:\n",
    "# # Example binary tree:\n",
    "#        1\n",
    "#       / \\\n",
    "#      2   3\n",
    "#     / \\   \\\n",
    "#    4   2   5\n",
    "#       / \\\n",
    "#      4   6\n",
    "\n",
    "# Constructing the binary tree\n",
    "# root = TreeNode(1)\n",
    "# root.left = TreeNode(2, TreeNode(4), TreeNode(2, TreeNode(4), TreeNode(6)))\n",
    "# root.right = TreeNode(3, right=TreeNode(5))\n",
    "# result = is_duplicate(root)\n",
    "# print(result)  # Output: 2\n",
    "\n",
    "# Partner example: a binary tree is constructed with 1 as the root, having 2 as both left and right children. Each 2 node further branches out with different values (3, 5 on the left, and 6, 7 on the right). \n",
    "# The function is_duplicate is called with root1 as input, aiming to find and return the closest duplicate value to the root, which in this case is 2."
   ]
  },
  {
   "cell_type": "markdown",
   "metadata": {},
   "source": [
    "\n",
    "-   Copy the solution your partner wrote. \n"
   ]
  },
  {
   "cell_type": "code",
   "execution_count": null,
   "metadata": {},
   "outputs": [],
   "source": [
    "# class TreeNode(object):\n",
    "def __init__(self, val=0, left=None, right=None):\n",
    "        self.val = val\n",
    "        self.left = left\n",
    "        self.right = right\n",
    "\n",
    "def enqueue(l, v): \n",
    "    l.append(v)\n",
    "\n",
    "def dequeue(l): \n",
    "    return l.pop(0)\n",
    "\n",
    "def is_duplicate(root):\n",
    "\n",
    "    if not root:  \n",
    "        return -1\n",
    "    \n",
    "    queue = [root]  \n",
    "    seen = set()  \n",
    "\n",
    "    while queue:    \n",
    "        node = dequeue(queue)  \n",
    "        \n",
    "        if node.val in seen:  \n",
    "            return node.val  \n",
    "        seen.add(node.val) \n",
    "        \n",
    "        # Traverse left and right child nodes\n",
    "        if node.left:\n",
    "            enqueue(queue, node.left)\n",
    "        if node.right:\n",
    "            enqueue(queue, node.right)\n",
    "    \n",
    "    return -1"
   ]
  },
  {
   "cell_type": "markdown",
   "metadata": {},
   "source": [
    "\n",
    "-   Explain why their solution works in your own words.\n"
   ]
  },
  {
   "cell_type": "code",
   "execution_count": null,
   "metadata": {},
   "outputs": [],
   "source": [
    "# My partner's solution utilizes depth-first search (DFS) to traverse the binary tree while maintaining a dictionary to track the first occurrence of each node's value and its depth. \n",
    "# This allows the function to efficiently identify and return the closest duplicate value to the root, meeting the problem's requirements."
   ]
  },
  {
   "cell_type": "markdown",
   "metadata": {},
   "source": [
    "\n",
    "-   Explain the problem’s time and space complexity in your own words.\n"
   ]
  },
  {
   "cell_type": "code",
   "execution_count": null,
   "metadata": {},
   "outputs": [],
   "source": [
    "# The time complexity of the solution is O(n), where n is the number of nodes in the binary tree, because each node is visited once during the depth-first search.\n",
    "# The space complexity is O(n) in the worst case due to the stack used for DFS and the dictionary to store node values and depths."
   ]
  },
  {
   "cell_type": "markdown",
   "metadata": {},
   "source": [
    "\n",
    "-   Critique your partner's solution, including explanation, and if there is anything that should be adjusted.\n"
   ]
  },
  {
   "cell_type": "code",
   "execution_count": null,
   "metadata": {},
   "outputs": [],
   "source": [
    "# Some fo the edge cases are not considered in my partner's solution. For example:\n",
    "# If the tree is empty (root is None), in which case the function should return -1 indicating no duplicates.\n",
    "# If all nodes in the tree have unique values, where the function should also return -1 since there are no duplicates present."
   ]
  },
  {
   "cell_type": "markdown",
   "metadata": {},
   "source": [
    "\n",
    "## Part 3:\n",
    "\n",
    "Please write a 200 word reflection documenting your process from assignment 1, and your presentation and review experience with your partner at the bottom of the Jupyter Notebook under a new heading \"Reflection.\" Again, export this Notebook as pdf.\n"
   ]
  },
  {
   "cell_type": "markdown",
   "metadata": {},
   "source": [
    "### Reflection"
   ]
  },
  {
   "cell_type": "code",
   "execution_count": null,
   "metadata": {},
   "outputs": [],
   "source": [
    "# Firstly, understanding the problem the code aims to solve is essential. This involves carefully reading the problem statement or requirements documentation to grasp the intended functionality and expected behavior.\n",
    "\n",
    "# Assessing the structure and organization of the code is important. This includes evaluating whether the code is well-structured, follows naming conventions, and uses appropriate design patterns or principles. Clear and concise code organization enhances readability and maintainability.\n",
    "\n",
    "# Analyzing the algorithm and logic implemented is crucial for evaluating efficiency and correctness. This involves checking the approach taken to solve the problem, considering time and space complexity, and identifying any potential optimizations or inefficiencies.\n",
    "\n",
    "# Testing and edge case handling should also be reviewed. Ensuring the code handles various input scenarios, including edge cases and boundary conditions, helps verify its robustness and reliability in different situations.\n",
    "\n",
    "# Providing constructive feedback is an essential part of code review. This includes pointing out areas for improvement, suggesting alternative approaches, and acknowledging strengths in the code's design or implementation.\n",
    "\n",
    "# Lastly, clear presentation is key to a successful code review. Providing clear explanation, explaining the rationale behind suggestions or critiques, and fostering a collaborative environment for discussing improvements contribute to the overall quality of the codebase and the development process."
   ]
  },
  {
   "cell_type": "markdown",
   "metadata": {},
   "source": [
    "\n",
    "## Evaluation Criteria\n",
    "\n",
    "We are looking for the similar points as Assignment 1\n",
    "\n",
    "-   Problem is accurately stated\n",
    "\n",
    "-   New example is correct and easily understandable\n",
    "\n",
    "-   Correctness, time, and space complexity of the coding solution\n",
    "\n",
    "-   Clarity in explaining why the solution works, its time and space complexity\n",
    "\n",
    "-   Quality of critique of your partner's assignment, if necessary\n"
   ]
  },
  {
   "cell_type": "markdown",
   "metadata": {},
   "source": [
    "## Submission Information\n",
    "\n",
    "🚨 **Please review our [Assignment Submission Guide](https://github.com/UofT-DSI/onboarding/blob/main/onboarding_documents/submissions.md)** 🚨 for detailed instructions on how to format, branch, and submit your work. Following these guidelines is crucial for your submissions to be evaluated correctly.\n",
    "\n",
    "### Submission Parameters:\n",
    "* Submission Due Date: `HH:MM AM/PM - DD/MM/YYYY`\n",
    "* The branch name for your repo should be: `assignment-2`\n",
    "* What to submit for this assignment:\n",
    "    * This Jupyter Notebook (assignment_2.ipynb) should be populated and should be the only change in your pull request.\n",
    "* What the pull request link should look like for this assignment: `https://github.com/<your_github_username>/algorithms_and_data_structures/pull/<pr_id>`\n",
    "    * Open a private window in your browser. Copy and paste the link to your pull request into the address bar. Make sure you can see your pull request properly. This helps the technical facilitator and learning support staff review your submission easily.\n",
    "\n",
    "Checklist:\n",
    "- [ ] Created a branch with the correct naming convention.\n",
    "- [ ] Ensured that the repository is public.\n",
    "- [ ] Reviewed the PR description guidelines and adhered to them.\n",
    "- [ ] Verify that the link is accessible in a private browser window.\n",
    "\n",
    "If you encounter any difficulties or have questions, please don't hesitate to reach out to our team via our Slack at `#cohort-3-help`. Our Technical Facilitators and Learning Support staff are here to help you navigate any challenges.\n"
   ]
  }
 ],
 "metadata": {
  "language_info": {
   "name": "python"
  }
 },
 "nbformat": 4,
 "nbformat_minor": 2
}
